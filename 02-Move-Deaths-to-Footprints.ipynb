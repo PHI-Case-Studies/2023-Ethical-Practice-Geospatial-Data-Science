{
 "cells": [
  {
   "cell_type": "code",
   "execution_count": null,
   "id": "cd142727-d0f9-4fd5-99c0-2d8b7dfd45f8",
   "metadata": {},
   "outputs": [],
   "source": [
    "import geopandas as gpd, folium\n",
    "from folium import plugins\n",
    "import osmnx as ox"
   ]
  },
  {
   "cell_type": "code",
   "execution_count": null,
   "id": "76375454-42fa-428a-9786-1227fa6ffc0c",
   "metadata": {},
   "outputs": [],
   "source": [
    "deaths_gdf = gpd.read_file('data/deaths_gdf.gpkg')"
   ]
  },
  {
   "cell_type": "code",
   "execution_count": null,
   "id": "97d9fa4e-ecb8-4234-95f6-4d7cca4f10e9",
   "metadata": {},
   "outputs": [],
   "source": [
    "deaths_gdf"
   ]
  },
  {
   "cell_type": "code",
   "execution_count": null,
   "id": "53a94979-884f-4062-9529-a50e1f036ead",
   "metadata": {},
   "outputs": [],
   "source": [
    "deaths_coords = (deaths_gdf.centroid.y.mean(), deaths_gdf.centroid.x.mean())"
   ]
  },
  {
   "cell_type": "code",
   "execution_count": null,
   "id": "7fd28731-215f-40e8-8a1b-47d47015360c",
   "metadata": {},
   "outputs": [],
   "source": [
    "footprints_centroid_gdf = gpd.read_file('data/footprints_centroids_gdf.gpkg')\n",
    "\n",
    "footprints_centroid_gdf"
   ]
  },
  {
   "cell_type": "code",
   "execution_count": null,
   "id": "20e58ba2-090f-45f8-96b3-0019f23155dd",
   "metadata": {},
   "outputs": [],
   "source": [
    "buffer = 0.001\n",
    "\n",
    "deaths_polygon = deaths_gdf.geometry.to_crs('epsg:4326').buffer(buffer).unary_union\n",
    "\n",
    "deaths_polygon"
   ]
  },
  {
   "cell_type": "code",
   "execution_count": null,
   "id": "583a5d32-412b-44aa-9445-0ecb50022146",
   "metadata": {},
   "outputs": [],
   "source": [
    "polygon_gdf = gpd.GeoDataFrame(geometry=[deaths_polygon], crs='epsg:4326')\n",
    "\n",
    "polygon_gdf"
   ]
  },
  {
   "cell_type": "code",
   "execution_count": null,
   "id": "f1841fb6-bbde-4eb5-a3da-b5194aa2bb7c",
   "metadata": {},
   "outputs": [],
   "source": [
    "%%time\n",
    "points_within_gdf = gpd.sjoin(footprints_centroid_gdf, polygon_gdf, op='within').drop(columns=['index_right'])"
   ]
  },
  {
   "cell_type": "code",
   "execution_count": null,
   "id": "c105d2e5-fae6-4686-9925-f8ce0bd02d6f",
   "metadata": {},
   "outputs": [],
   "source": [
    "points_within_gdf['centroid_x'] = points_within_gdf.geometry.to_crs('epsg:4326').centroid.x\n",
    "points_within_gdf['centroid_y'] = points_within_gdf.geometry.to_crs('epsg:4326').centroid.y"
   ]
  },
  {
   "cell_type": "code",
   "execution_count": null,
   "id": "855f16c9-2da5-4176-8e8c-946a2e294f4d",
   "metadata": {},
   "outputs": [],
   "source": [
    "points_within_gdf"
   ]
  },
  {
   "cell_type": "code",
   "execution_count": null,
   "id": "8f53365c-b97b-4887-8c94-68fc13a22f9a",
   "metadata": {},
   "outputs": [],
   "source": [
    "points_within_proj_gdf = points_within_gdf.to_crs('epsg:32630').copy()\n",
    "deaths_proj_gdf = deaths_gdf.to_crs('epsg:32630').copy()"
   ]
  },
  {
   "cell_type": "code",
   "execution_count": null,
   "id": "bc91cd0e-7fd2-4561-b696-d9cf0fd39989",
   "metadata": {},
   "outputs": [],
   "source": [
    "points_within_proj_gdf"
   ]
  },
  {
   "cell_type": "code",
   "execution_count": null,
   "id": "45fe4e85-a5d4-40e1-a162-8a641a437974",
   "metadata": {},
   "outputs": [],
   "source": [
    "points_within_proj_gdf['x'] = points_within_proj_gdf.geometry.x\n",
    "points_within_proj_gdf['y'] = points_within_proj_gdf.geometry.y\n",
    "\n",
    "points_within_proj_gdf"
   ]
  },
  {
   "cell_type": "code",
   "execution_count": null,
   "id": "09b36bce-2574-4944-af0e-392372cf7063",
   "metadata": {},
   "outputs": [],
   "source": [
    "deaths_proj_gdf['x'] = deaths_proj_gdf.geometry.x\n",
    "deaths_proj_gdf['y'] = deaths_proj_gdf.geometry.y\n",
    "\n",
    "deaths_proj_gdf"
   ]
  },
  {
   "cell_type": "code",
   "execution_count": null,
   "id": "96b64245-185b-4ecf-8fda-c6f42fd46eaf",
   "metadata": {
    "tags": []
   },
   "outputs": [],
   "source": [
    "%%time\n",
    "from shapely.geometry import Point, LineString\n",
    "import pandas as pd\n",
    "\n",
    "dict_list = []\n",
    "for drow in deaths_proj_gdf.itertuples():\n",
    "    sorted_list = []\n",
    "    s_dict = {}\n",
    "    for frow in points_within_proj_gdf.itertuples():\n",
    "        distance = ox.distance.euclidean_dist_vec(frow.y, frow.x, drow.y, drow.x)\n",
    "        sorted_list.append([drow.Index, frow.Index, distance, drow.x, drow.y, frow.x, frow.y, frow.osmid, drow.DEATHS])\n",
    "    s = sorted(sorted_list, key = lambda x: x[2])[0]\n",
    "    orig_coord = Point(s[3], s[4])\n",
    "    dest_coord = Point(s[5], s[6])\n",
    "    line = LineString([orig_coord, dest_coord]).wkt\n",
    "    s_dict = {'death_index': s[0],'footprint_index': s[1], 'distance_m': s[2], \\\n",
    "              'wkt_line': line, 'osmid': s[7],'deaths': s[8]}\n",
    "    dict_list.append(s_dict)\n",
    "df = pd.DataFrame(dict_list)"
   ]
  },
  {
   "cell_type": "code",
   "execution_count": null,
   "id": "2c485a39-26d3-4e7e-a0ae-051ab6b333e3",
   "metadata": {},
   "outputs": [],
   "source": [
    "df"
   ]
  },
  {
   "cell_type": "code",
   "execution_count": null,
   "id": "0e577c9f-e432-4bd8-b661-19928099929d",
   "metadata": {},
   "outputs": [],
   "source": [
    "%%time\n",
    "from shapely import wkt\n",
    "\n",
    "df['geometry'] = df.wkt_line.apply(wkt.loads)\n",
    "gdf = gpd.GeoDataFrame(df, geometry='geometry', crs='epsg:32630')"
   ]
  },
  {
   "cell_type": "code",
   "execution_count": null,
   "id": "3b643999-aaf3-4c5e-8f53-c99dea2f291c",
   "metadata": {},
   "outputs": [],
   "source": [
    "gdf"
   ]
  },
  {
   "cell_type": "code",
   "execution_count": null,
   "id": "49ea1cea-3579-49ce-8201-9cebb9a1fe5e",
   "metadata": {},
   "outputs": [],
   "source": [
    "linestrings_gdf = gdf.to_crs('epsg:4326').drop(columns=['wkt_line']).copy()\n",
    "\n",
    "linestrings_gdf"
   ]
  },
  {
   "cell_type": "code",
   "execution_count": null,
   "id": "14717f95-e085-4bc3-b707-da868cbba430",
   "metadata": {},
   "outputs": [],
   "source": [
    "%%time\n",
    "lasts = []\n",
    "for line in linestrings_gdf.geometry:\n",
    "    endpoints = line.boundary\n",
    "    first, last = endpoints.geoms\n",
    "    lasts.append(last.wkt)"
   ]
  },
  {
   "cell_type": "code",
   "execution_count": null,
   "id": "f7510730-8e7c-42f7-8e68-890752ac8328",
   "metadata": {},
   "outputs": [],
   "source": [
    "linestrings_gdf['wkt_dest_points'] = lasts"
   ]
  },
  {
   "cell_type": "code",
   "execution_count": null,
   "id": "caf1b598-3b3e-48d0-90a7-f3930ce25444",
   "metadata": {},
   "outputs": [],
   "source": [
    "linestrings_gdf"
   ]
  },
  {
   "cell_type": "code",
   "execution_count": null,
   "id": "95a5925f-903f-4257-af32-494d93fad8da",
   "metadata": {},
   "outputs": [],
   "source": [
    "linestrings_gdf.to_file('data/linestrings_gdf.gpkg', driver='GPKG')"
   ]
  },
  {
   "cell_type": "code",
   "execution_count": null,
   "id": "c3018450-597d-43e8-9109-27c1f8f8894e",
   "metadata": {},
   "outputs": [],
   "source": [
    "%%time\n",
    "map1 = folium.Map(location=deaths_coords, tiles='CartoDB positron', zoom_start=17)\n",
    "\n",
    "fg1=folium.FeatureGroup(name='Cholera deaths', show=True)\n",
    "deaths_style = {'fillColor':'black','color':'black','weight':2,'opacity':0.5, 'fillOpacity':0.5}\n",
    "deaths_marker = {'radius':5}\n",
    "for row in deaths_gdf.itertuples():\n",
    "    folium.CircleMarker(\n",
    "                    location=[row.LAT,row.LON], \\\n",
    "                    radius=deaths_marker['radius'], \\\n",
    "                    color=deaths_style['color'], \\\n",
    "                    weight=deaths_style['weight'], \\\n",
    "                    fill=True, \\\n",
    "                    fill_color=deaths_style['fillColor'], \\\n",
    "                    fill_opacity=deaths_style['fillOpacity']).add_to(fg1)\n",
    "\n",
    "fg1.add_to(map1)\n",
    "\n",
    "fg2=folium.FeatureGroup(name='Building footprints', show=True)\n",
    "footprints_style = {'fillColor':'red','color':'black','weight':1,'opacity':0.5, 'fillOpacity':0.5}\n",
    "footprints_marker = {'radius':4}\n",
    "for row in points_within_gdf.itertuples():\n",
    "    folium.CircleMarker(\n",
    "                    location=[row.centroid_y,row.centroid_x], \\\n",
    "                    radius=footprints_marker['radius'], \\\n",
    "                    color=footprints_style['color'], \\\n",
    "                    weight=footprints_style['weight'], \\\n",
    "                    fill=True, \\\n",
    "                    fill_color=footprints_style['fillColor'], \\\n",
    "                    fill_opacity=footprints_style['fillOpacity']).add_to(fg2)\n",
    "    \n",
    "fg2.add_to(map1)\n",
    "\n",
    "fg3=folium.FeatureGroup(name='Nearest building', show=True)\n",
    "folium.Choropleth(linestrings_gdf, line_weight=2, color='blue').add_to(fg3)\n",
    "fg3.add_to(map1)\n",
    "\n",
    "folium.LayerControl(position='topright', collapsed=True, autoZIndex=True).add_to(map1)\n",
    "\n",
    "plugins.Fullscreen(\n",
    "    position='topright',\n",
    "    title='Expand me',\n",
    "    title_cancel='Exit me',\n",
    "    force_separate_button=True\n",
    ").add_to(map1)\n",
    "\n",
    "map1"
   ]
  },
  {
   "cell_type": "code",
   "execution_count": null,
   "id": "ea7dc64b-ba6d-420c-98bc-c1684487c9b8",
   "metadata": {},
   "outputs": [],
   "source": [
    "buildings_osmid_df = linestrings_gdf[['osmid','deaths','wkt_dest_points']].groupby(['osmid', 'wkt_dest_points'])['deaths'].sum().reset_index()\n",
    "\n",
    "buildings_osmid_df"
   ]
  },
  {
   "cell_type": "code",
   "execution_count": null,
   "id": "fc9fe190-9364-44b5-a79e-3462fd355ba2",
   "metadata": {},
   "outputs": [],
   "source": [
    "linestrings_gdf[linestrings_gdf['osmid']==54666919]"
   ]
  },
  {
   "cell_type": "code",
   "execution_count": null,
   "id": "6b494136-9489-4b26-a3c6-1611a290ebb8",
   "metadata": {},
   "outputs": [],
   "source": [
    "from shapely import wkt\n",
    "\n",
    "buildings_osmid_df['geometry'] = buildings_osmid_df.wkt_dest_points.apply(wkt.loads)\n",
    "buildings_osmid_gdf = gpd.GeoDataFrame(buildings_osmid_df, geometry='geometry', crs='epsg:4326').drop(columns=['wkt_dest_points'])\n",
    "\n",
    "buildings_osmid_gdf"
   ]
  },
  {
   "cell_type": "code",
   "execution_count": null,
   "id": "ab35db5c-0c30-4cfa-ac45-d5740484c785",
   "metadata": {},
   "outputs": [],
   "source": [
    "buildings_osmid_gdf.to_file('data/buildings_osmid_gdf.gpkg', driver='GPKG')"
   ]
  },
  {
   "cell_type": "code",
   "execution_count": null,
   "id": "4d92a9e1-bca5-428b-a308-87a461524035",
   "metadata": {},
   "outputs": [],
   "source": [
    "%%time\n",
    "map1 = folium.Map(location=deaths_coords, tiles='CartoDB positron', zoom_start=17)\n",
    "\n",
    "fg1=folium.FeatureGroup(name='Cholera deaths', show=True)\n",
    "deaths_style = {'fillColor':'black','color':'black','weight':2,'opacity':0.5, 'fillOpacity':0.5}\n",
    "deaths_marker = {'radius':6}\n",
    "for row in buildings_osmid_gdf.itertuples():\n",
    "    folium.CircleMarker(\n",
    "                    location=(row.geometry.y, row.geometry.x), \\\n",
    "                    radius=deaths_marker['radius'], \\\n",
    "                    color=deaths_style['color'], \\\n",
    "                    weight=deaths_style['weight'], \\\n",
    "                    fill=True, \\\n",
    "                    fill_color=deaths_style['fillColor'], \\\n",
    "                    fill_opacity=deaths_style['fillOpacity']).add_to(fg1)\n",
    "\n",
    "fg1.add_to(map1)\n",
    "\n",
    "fg2=folium.FeatureGroup(name='Building footprints', show=True)\n",
    "footprints_style = {'fillColor':'red','color':'black','weight':1,'opacity':0.5, 'fillOpacity':0.5}\n",
    "footprints_marker = {'radius':4}\n",
    "for row in points_within_gdf.itertuples():\n",
    "    folium.CircleMarker(\n",
    "                    location=[row.centroid_y,row.centroid_x], \\\n",
    "                    radius=footprints_marker['radius'], \\\n",
    "                    color=footprints_style['color'], \\\n",
    "                    weight=footprints_style['weight'], \\\n",
    "                    fill=True, \\\n",
    "                    fill_color=footprints_style['fillColor'], \\\n",
    "                    fill_opacity=footprints_style['fillOpacity']).add_to(fg2)\n",
    "    \n",
    "fg2.add_to(map1)\n",
    "\n",
    "folium.LayerControl(position='topright', collapsed=True, autoZIndex=True).add_to(map1)\n",
    "\n",
    "plugins.Fullscreen(\n",
    "    position='topright',\n",
    "    title='Expand me',\n",
    "    title_cancel='Exit me',\n",
    "    force_separate_button=True\n",
    ").add_to(map1)\n",
    "\n",
    "map1"
   ]
  },
  {
   "cell_type": "code",
   "execution_count": null,
   "id": "4743001b-aa31-48be-ad2d-96b82a4d71ae",
   "metadata": {},
   "outputs": [],
   "source": []
  }
 ],
 "metadata": {
  "kernelspec": {
   "display_name": "Geoprivacy Python3",
   "language": "python",
   "name": "geoprivacy_py3"
  },
  "language_info": {
   "codemirror_mode": {
    "name": "ipython",
    "version": 3
   },
   "file_extension": ".py",
   "mimetype": "text/x-python",
   "name": "python",
   "nbconvert_exporter": "python",
   "pygments_lexer": "ipython3",
   "version": "3.10.4"
  }
 },
 "nbformat": 4,
 "nbformat_minor": 5
}
