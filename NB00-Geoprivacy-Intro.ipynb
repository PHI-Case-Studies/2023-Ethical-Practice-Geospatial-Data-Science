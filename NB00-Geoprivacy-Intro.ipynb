{
 "cells": [
  {
   "cell_type": "markdown",
   "metadata": {},
   "source": [
    "# Introduction to Geoprivacy Notebooks"
   ]
  },
  {
   "cell_type": "markdown",
   "metadata": {},
   "source": [
    "## Requirements"
   ]
  },
  {
   "cell_type": "markdown",
   "metadata": {},
   "source": [
    "The following Python 3.5+ packages are required to run the notebooks in this case study.\n",
    "1. Pandas\n",
    "2. Geopandas\n",
    "3. Folium and plugins\n",
    "4. Random\n",
    "5. Math\n",
    "6. Numpy\n",
    "7. Geopy\n",
    "8. Time\n",
    "9. H3\n",
    "10. H3-py"
   ]
  },
  {
   "cell_type": "markdown",
   "metadata": {},
   "source": [
    "## Approach"
   ]
  },
  {
   "cell_type": "markdown",
   "metadata": {},
   "source": [
    "1. Start with Cholera use case\n",
    "2. Kampala MSM (using random points as original)"
   ]
  },
  {
   "cell_type": "markdown",
   "metadata": {},
   "source": [
    "## References"
   ]
  },
  {
   "cell_type": "markdown",
   "metadata": {},
   "source": [
    "1. Douglas B. Richardson, Mei-Po Kwan, George Alter & Jean E. McKendry (2015) Replication of scientific research: addressing geoprivacy, confidentiality, and data sharing challenges in geospatial research, Annals of GIS, 21:2, 101-110, DOI: 10.1080/19475683.2015.1027792. URL: https://www.tandfonline.com/doi/full/10.1080/19475683.2015.1027792\n"
   ]
  },
  {
   "cell_type": "code",
   "execution_count": null,
   "metadata": {},
   "outputs": [],
   "source": []
  }
 ],
 "metadata": {
  "kernelspec": {
   "display_name": "Python3",
   "language": "python",
   "name": "python3"
  },
  "language_info": {
   "codemirror_mode": {
    "name": "ipython",
    "version": 3
   },
   "file_extension": ".py",
   "mimetype": "text/x-python",
   "name": "python",
   "nbconvert_exporter": "python",
   "pygments_lexer": "ipython3",
   "version": "3.8.8"
  }
 },
 "nbformat": 4,
 "nbformat_minor": 4
}
