{
 "cells": [
  {
   "cell_type": "markdown",
   "id": "95056cff-efbd-4a46-b95b-41f9468de9f2",
   "metadata": {},
   "source": [
    "# Wards, Streets, Buildings and Deaths"
   ]
  },
  {
   "cell_type": "markdown",
   "id": "1d0c8ad1-ca3c-420a-9ad2-aeb73ce5ac74",
   "metadata": {},
   "source": [
    "## Download London wards"
   ]
  },
  {
   "cell_type": "code",
   "execution_count": null,
   "id": "d26d483a-1521-461c-9bf0-d69531d4c9bc",
   "metadata": {},
   "outputs": [],
   "source": [
    "import urllib.request as ur, os\n",
    "\n",
    "download_link='https://data.london.gov.uk/download/statistical-gis-boundary-files-london/08d31995-dd27-423c-a987-57fe8e952990/London-wards-2018.zip'\n",
    "target_file='data/londonwards.zip'\n",
    "\n",
    "if not os.path.exists(target_file):\n",
    "    ur.urlretrieve(download_link, target_file)"
   ]
  },
  {
   "cell_type": "code",
   "execution_count": null,
   "id": "dbe10b08-ce2c-4733-a631-50196c7bd26c",
   "metadata": {},
   "outputs": [],
   "source": [
    "!rm -fvR data/London-wards-2018_ESRI\n",
    "!rm -fvR data/London-wards-2018_Mapinfo\n",
    "!cd data && unzip londonwards.zip"
   ]
  },
  {
   "cell_type": "markdown",
   "id": "ad1a2199-08f4-4f69-b778-5f948d396dd1",
   "metadata": {},
   "source": [
    "## Start here if you have London wards already"
   ]
  },
  {
   "cell_type": "code",
   "execution_count": null,
   "id": "501c3c13-73b1-4a73-83f9-0b7d721bfd31",
   "metadata": {},
   "outputs": [],
   "source": [
    "import geopandas as gpd"
   ]
  },
  {
   "cell_type": "code",
   "execution_count": null,
   "id": "243b3b88-2fb2-419d-aee6-d731e4535e0c",
   "metadata": {},
   "outputs": [],
   "source": [
    "london_gdf = gpd.read_file('data/London-wards-2018_ESRI/London_Ward_CityMerged.shp')"
   ]
  },
  {
   "cell_type": "code",
   "execution_count": null,
   "id": "4c64b7c8-b6e5-46c1-b147-1e42fa136309",
   "metadata": {},
   "outputs": [],
   "source": [
    "london_gdf.plot()"
   ]
  },
  {
   "cell_type": "code",
   "execution_count": null,
   "id": "5a4a1777-786d-4ec7-8c8a-bf64cdaed8dd",
   "metadata": {},
   "outputs": [],
   "source": [
    "london_gdf.crs"
   ]
  },
  {
   "cell_type": "code",
   "execution_count": null,
   "id": "1552cbdc-3e10-43ed-8cb0-731b4b2ded90",
   "metadata": {},
   "outputs": [],
   "source": [
    "london_27700_gdf = london_gdf.copy()"
   ]
  },
  {
   "cell_type": "code",
   "execution_count": null,
   "id": "611299d0-d6a8-4df2-998e-a8d01711a49f",
   "metadata": {},
   "outputs": [],
   "source": [
    "london_27700_gdf"
   ]
  },
  {
   "cell_type": "code",
   "execution_count": null,
   "id": "56041c7c-7947-4539-9be6-336818ca0c42",
   "metadata": {},
   "outputs": [],
   "source": [
    "london_4326_gdf = london_gdf.to_crs('epsg:4326').copy()"
   ]
  },
  {
   "cell_type": "code",
   "execution_count": null,
   "id": "a0825240-ec1a-4b51-a2de-98a39d687e07",
   "metadata": {},
   "outputs": [],
   "source": [
    "london_polygon = london_4326_gdf.geometry.unary_union\n",
    "\n",
    "london_polygon"
   ]
  },
  {
   "cell_type": "code",
   "execution_count": null,
   "id": "e80a3293-2cbb-4083-9117-6b3f59bbf9b2",
   "metadata": {},
   "outputs": [],
   "source": [
    "wards = ['West End','Knightsbridge and Belgravia','Hyde Park','Bryanston and Dorset Square',\\\n",
    "        'Marylebone High Street','Bloomsbury','Holborn and Covent Garden','St. James\\'s']\n",
    "filter_polygon = london_4326_gdf[london_4326_gdf['NAME'].isin(wards)].geometry.unary_union\n",
    "map_coords = (filter_polygon.centroid.y, filter_polygon.centroid.x)"
   ]
  },
  {
   "cell_type": "code",
   "execution_count": null,
   "id": "f8fa3f84-8596-457e-a93f-539aa100fabf",
   "metadata": {},
   "outputs": [],
   "source": [
    "import folium\n",
    "\n",
    "from folium import plugins\n",
    "\n",
    "m = folium.Map(location=map_coords, zoom_start=13, control_scale=True)\n",
    "\n",
    "for row in london_4326_gdf.itertuples():\n",
    "    # Simplify the representation of the parishes\n",
    "    #    so the polygons display easily\n",
    "    sim_geo = gpd.GeoSeries(row.geometry).simplify(tolerance=0.000001)\n",
    "    # convert the simplified geometry to GeoJSON\n",
    "    geo_j = sim_geo.to_json()\n",
    "    if row.NAME in wards:\n",
    "        geo_j = folium.GeoJson(data=geo_j,\n",
    "                               style_function=lambda x: {'color':'black','weight':3, 'fillColor': 'red','fillOpacity':0.2},\n",
    "                               highlight_function=lambda x: {'color':'black','weight':3, 'fillColor': 'blue','fillOpacity':0.075})\n",
    "    else:\n",
    "        geo_j = folium.GeoJson(data=geo_j,\n",
    "                               style_function=lambda x: {'color':'black','weight':1, 'fillColor': 'orange','fillOpacity':0.05},\n",
    "                               highlight_function=lambda x: {'color':'black','weight':3, 'fillColor': 'blue','fillOpacity':0.075})\n",
    "        \n",
    "    folium.Popup('Ward: '+row.NAME+'<br/>'+'Area (ha): '+str(row.HECTARES)).add_to(geo_j)\n",
    "    geo_j.add_to(m)\n",
    "    \n",
    "m"
   ]
  },
  {
   "cell_type": "code",
   "execution_count": null,
   "id": "36b5eb36-1a0a-4ea0-9db5-8d41b1181381",
   "metadata": {},
   "outputs": [],
   "source": [
    "london_4326_gdf.info()"
   ]
  },
  {
   "cell_type": "code",
   "execution_count": null,
   "id": "fe0da84d-e503-4257-bf16-1c5421137840",
   "metadata": {},
   "outputs": [],
   "source": [
    "london_4326_gdf[london_4326_gdf['NAME'].isin(wards)].plot()"
   ]
  },
  {
   "cell_type": "code",
   "execution_count": null,
   "id": "b15942dc-e02e-4172-aba1-d468e382602a",
   "metadata": {},
   "outputs": [],
   "source": [
    "london_4326_gdf[london_4326_gdf['NAME'].isin(wards)]"
   ]
  },
  {
   "cell_type": "markdown",
   "id": "961fa5b7-c835-4371-b4b5-8502d841bbc1",
   "metadata": {},
   "source": [
    "https://data.london.gov.uk/dataset/statistical-gis-boundary-files-london\n",
    "\n",
    "https://osmnx.readthedocs.io/en/stable/osmnx.html#osmnx.graph.graph_from_polygon\n",
    "\n",
    "https://osmnx.readthedocs.io/en/stable/osmnx.html#osmnx.plot.plot_graph\n",
    "\n",
    "https://osmnx.readthedocs.io/en/stable/osmnx.html#osmnx.utils.config"
   ]
  },
  {
   "cell_type": "markdown",
   "id": "b8be2be3-a459-4cec-aaec-47ee3bd3a8b9",
   "metadata": {},
   "source": [
    "## Download Street Network"
   ]
  },
  {
   "cell_type": "code",
   "execution_count": null,
   "id": "433cb904-69b7-4c58-b80d-c94c21d25fa7",
   "metadata": {},
   "outputs": [],
   "source": [
    "import osmnx as ox, csv\n",
    "\n",
    "with open('overpass-api.csv', mode='r') as infile:\n",
    "    reader = csv.reader(infile)\n",
    "    overpass_api = {rows[0]:rows[1] for rows in reader}\n",
    "\n",
    "ox.config(\n",
    "    log_console=False, \n",
    "    use_cache=True, \n",
    "    log_file=True,\n",
    "    overpass_endpoint=overpass_api['main'],\n",
    "    overpass_rate_limit=True,\n",
    "    timeout=240\n",
    ")"
   ]
  },
  {
   "cell_type": "code",
   "execution_count": null,
   "id": "e73c84a9-0f10-4dbf-97ac-b80fb7dbbe5f",
   "metadata": {},
   "outputs": [],
   "source": [
    "download_graph = True\n",
    "\n",
    "if download_graph:\n",
    "    G = ox.graph_from_polygon(filter_polygon, network_type='all', simplify=False)\n",
    "    G_proj = ox.project_graph(G)\n",
    "    G_proj = ox.speed.add_edge_speeds(G_proj, precision=3)\n",
    "    G_proj = ox.speed.add_edge_travel_times(G_proj, precision=3)\n",
    "    G = ox.bearing.add_edge_bearings(G, precision=1)\n",
    "    G = ox.distance.add_edge_lengths(G, precision=3)\n",
    "    ox.save_graphml(G, 'data/g_unprojected.graphml')\n",
    "    ox.save_graphml(G_proj, 'data/g_projected.graphml')\n",
    "else:\n",
    "    G = ox.load_graphml('data/g_unprojected.graphml')\n",
    "    G_proj = ox.load_graphml('data/g_projected.graphml')"
   ]
  },
  {
   "cell_type": "code",
   "execution_count": null,
   "id": "8cdd3828-a4d9-4beb-9e3b-2e6a422fd60e",
   "metadata": {},
   "outputs": [],
   "source": [
    "G.graph['crs']"
   ]
  },
  {
   "cell_type": "code",
   "execution_count": null,
   "id": "3baea2f9-5492-41f9-8cf6-fbdea146104c",
   "metadata": {},
   "outputs": [],
   "source": [
    "G_proj.graph['crs']"
   ]
  },
  {
   "cell_type": "markdown",
   "id": "9da4738a-b65a-4448-83e7-65b4d849684b",
   "metadata": {},
   "source": [
    "UTM Zone 30: https://epsg.io/32630"
   ]
  },
  {
   "cell_type": "code",
   "execution_count": null,
   "id": "5aea65bc-3d98-40d7-8fda-21b733eb438d",
   "metadata": {},
   "outputs": [],
   "source": [
    "G_proj.graph['crs'] = 'epsg:32630'"
   ]
  },
  {
   "cell_type": "code",
   "execution_count": null,
   "id": "9c3be9a6-801c-4770-9f36-f8c862f92769",
   "metadata": {},
   "outputs": [],
   "source": [
    "G_proj.graph['crs']"
   ]
  },
  {
   "cell_type": "code",
   "execution_count": null,
   "id": "23d25a66-067f-49ba-abea-a8cf7b7dceb8",
   "metadata": {},
   "outputs": [],
   "source": [
    "ox.plot.plot_graph(G, figsize=(15,30), bgcolor='white', node_color='black')"
   ]
  },
  {
   "cell_type": "markdown",
   "id": "0ec8857f-ad57-40f3-94be-0d5e6f5a4545",
   "metadata": {},
   "source": [
    "## Download OSM building footprints"
   ]
  },
  {
   "cell_type": "code",
   "execution_count": null,
   "id": "ddd0502e-2e2a-4694-8162-d8deed7f88e7",
   "metadata": {},
   "outputs": [],
   "source": [
    "%%time\n",
    "if os.path.exists('data/footprints_gdf.gpkg'):\n",
    "    footprints_gdf = gpd.read_file('data/footprints_gdf.gpkg')\n",
    "else:\n",
    "    footprints_gdf = ox.geometries.geometries_from_polygon(filter_polygon, tags={'building':True}).reset_index()"
   ]
  },
  {
   "cell_type": "code",
   "execution_count": null,
   "id": "4db77e7e-0067-48f0-bbe9-2fce691bb933",
   "metadata": {},
   "outputs": [],
   "source": [
    "footprints_gdf.plot(figsize=(15,30))"
   ]
  },
  {
   "cell_type": "code",
   "execution_count": null,
   "id": "5c746f9c-8ed3-453e-85df-b12a50d86e6c",
   "metadata": {},
   "outputs": [],
   "source": [
    "cols_to_delete = footprints_gdf.columns[footprints_gdf.isnull().sum()/len(footprints_gdf) > .20]"
   ]
  },
  {
   "cell_type": "code",
   "execution_count": null,
   "id": "982f6816-25f3-4260-95b6-c20f8c816f82",
   "metadata": {},
   "outputs": [],
   "source": [
    "footprints_gdf.drop(cols_to_delete, axis = 1)"
   ]
  },
  {
   "cell_type": "code",
   "execution_count": null,
   "id": "e479c28a-da2b-42fe-9df4-eaeb87ec786b",
   "metadata": {},
   "outputs": [],
   "source": [
    "footprints_gdf['building'].unique()"
   ]
  },
  {
   "cell_type": "code",
   "execution_count": null,
   "id": "a3fe3f1a-40a3-4f1d-a775-0e4e48156713",
   "metadata": {},
   "outputs": [],
   "source": [
    "footprints_gdf['centroid_x'] = footprints_gdf.geometry.centroid.x\n",
    "footprints_gdf['centroid_y'] = footprints_gdf.geometry.centroid.y"
   ]
  },
  {
   "cell_type": "code",
   "execution_count": null,
   "id": "d00fa1fe-d454-4961-bce4-ae5978058038",
   "metadata": {},
   "outputs": [],
   "source": [
    "%%time\n",
    "if 'nodes' in footprints_gdf.columns:\n",
    "    footprints_gdf['nodes'] = footprints_gdf['nodes'].astype(str)\n",
    "if 'ways' in footprints_gdf.columns:\n",
    "    footprints_gdf['ways'] = footprints_gdf['ways'].astype(str)\n",
    "    \n",
    "footprints_gdf.to_file('data/footprints_gdf.gpkg', driver='GPKG')"
   ]
  },
  {
   "cell_type": "code",
   "execution_count": null,
   "id": "d40afcf7-7369-4951-afa9-4ec1642664a4",
   "metadata": {},
   "outputs": [],
   "source": [
    "footprints_centroids_gdf = footprints_gdf[['osmid','building','centroid_x', 'centroid_y','geometry']].copy()\n",
    "footprints_centroids_gdf['geometry'] = footprints_gdf['geometry'].to_crs('epsg:4326').centroid\n",
    "\n",
    "footprints_centroids_gdf.to_file('data/footprints_centroids_gdf.gpkg', driver='GPKG')"
   ]
  },
  {
   "cell_type": "code",
   "execution_count": null,
   "id": "59a87641-67a4-423d-b2b4-92c808ac9022",
   "metadata": {},
   "outputs": [],
   "source": [
    "footprint_style = {'fillColor':'red','color':'black','weight':1,'opacity':0.5}\n",
    "footprint_marker = {'radius':4}"
   ]
  },
  {
   "cell_type": "code",
   "execution_count": null,
   "id": "44f9e77f-6593-44c6-8808-346dc3eafbba",
   "metadata": {},
   "outputs": [],
   "source": [
    "map1 = footprints_centroids_gdf.explore(tiles='CartoDB positron',style_kwds=footprint_style, marker_kwds=footprint_marker)\n",
    "plugins.Fullscreen(\n",
    "    position='topright',\n",
    "    title='Expand me',\n",
    "    title_cancel='Exit me',\n",
    "    force_separate_button=True\n",
    ").add_to(map1)\n",
    "map1"
   ]
  },
  {
   "cell_type": "code",
   "execution_count": null,
   "id": "cd5c2efe-ba37-48bb-80a4-d74e97179b71",
   "metadata": {},
   "outputs": [],
   "source": [
    "nodes_gdf, edges_gdf = ox.graph_to_gdfs(G, nodes=True, edges=True, node_geometry=True, fill_edge_geometry=True)"
   ]
  },
  {
   "cell_type": "code",
   "execution_count": null,
   "id": "29c51295-571c-4944-ba9c-1f5578ce5ba1",
   "metadata": {},
   "outputs": [],
   "source": [
    "node_style = {'fillColor':'blue','color':'black','weight':1,'opacity':0.5}\n",
    "node_marker = {'radius':4}"
   ]
  },
  {
   "cell_type": "code",
   "execution_count": null,
   "id": "ca1055fd-7aa6-4577-bdd1-5fbc873a59cd",
   "metadata": {},
   "outputs": [],
   "source": [
    "nodes_gdf.explore(m=map1, style_kwds=node_style, marker_kwds=node_marker)"
   ]
  },
  {
   "cell_type": "code",
   "execution_count": null,
   "id": "8b95233d-a021-40b7-87ac-b8379c1dfa4b",
   "metadata": {},
   "outputs": [],
   "source": [
    "edges_gdf.explore(m=map1)"
   ]
  },
  {
   "cell_type": "markdown",
   "id": "eb27f501-90a2-40eb-a666-cd4d65a41f6e",
   "metadata": {},
   "source": [
    "## Load Cholera deaths"
   ]
  },
  {
   "cell_type": "code",
   "execution_count": null,
   "id": "be83deee-8106-47ed-9ffc-68d2ec5a20d7",
   "metadata": {},
   "outputs": [],
   "source": [
    "import pandas as pd\n",
    "\n",
    "deaths_df = pd.read_csv('data/cholera_deaths.csv')\n",
    "deaths_gdf = gpd.GeoDataFrame(deaths_df, geometry=gpd.points_from_xy(deaths_df.LON, deaths_df.LAT), crs='epsg:4326')\n",
    "deaths_gdf.to_file('data/deaths_gdf.gpkg', driver='GPKG')"
   ]
  },
  {
   "cell_type": "code",
   "execution_count": null,
   "id": "1392f041-b3b2-4fc0-91a4-49338ab053cf",
   "metadata": {},
   "outputs": [],
   "source": [
    "deaths_style = {'fillColor':'black','color':'black','weight':2,'opacity':0.5, 'fillOpacity':0.8}\n",
    "deaths_marker = {'radius':5}"
   ]
  },
  {
   "cell_type": "code",
   "execution_count": null,
   "id": "b4b81cdc-d422-49d4-a746-c23790b7335b",
   "metadata": {},
   "outputs": [],
   "source": [
    "deaths_gdf.explore(m=map1, style_kwds=deaths_style, marker_kwds=deaths_marker)"
   ]
  },
  {
   "cell_type": "markdown",
   "id": "0e5ba551-dcbf-42a0-800d-d3cee20a6004",
   "metadata": {},
   "source": [
    "https://geopandas.org/en/stable/docs/reference/api/geopandas.GeoDataFrame.explore.html#geopandas-geodataframe-explore"
   ]
  },
  {
   "cell_type": "code",
   "execution_count": null,
   "id": "e8aa072b-e454-4105-9633-ee423886653e",
   "metadata": {},
   "outputs": [],
   "source": []
  }
 ],
 "metadata": {
  "kernelspec": {
   "display_name": "Geoprivacy Python3",
   "language": "python",
   "name": "geoprivacy_py3"
  },
  "language_info": {
   "codemirror_mode": {
    "name": "ipython",
    "version": 3
   },
   "file_extension": ".py",
   "mimetype": "text/x-python",
   "name": "python",
   "nbconvert_exporter": "python",
   "pygments_lexer": "ipython3",
   "version": "3.10.4"
  }
 },
 "nbformat": 4,
 "nbformat_minor": 5
}
